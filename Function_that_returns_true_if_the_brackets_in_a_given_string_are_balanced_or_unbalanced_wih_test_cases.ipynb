{
  "nbformat": 4,
  "nbformat_minor": 0,
  "metadata": {
    "colab": {
      "name": "Function that returns true if the brackets in a given string are balanced or unbalanced wih test cases.ipynb",
      "provenance": [],
      "collapsed_sections": [],
      "authorship_tag": "ABX9TyMIDoIj6Wm0e5/tDAhbQaTC",
      "include_colab_link": true
    },
    "kernelspec": {
      "name": "python3",
      "display_name": "Python 3"
    }
  },
  "cells": [
    {
      "cell_type": "markdown",
      "metadata": {
        "id": "view-in-github",
        "colab_type": "text"
      },
      "source": [
        "<a href=\"https://colab.research.google.com/github/andresvivancov/Function-that-returns-true-if-the-brackets-in-a-given-string-are-balanced-or-unbalanced/blob/master/Function_that_returns_true_if_the_brackets_in_a_given_string_are_balanced_or_unbalanced_wih_test_cases.ipynb\" target=\"_parent\"><img src=\"https://colab.research.google.com/assets/colab-badge.svg\" alt=\"Open In Colab\"/></a>"
      ]
    },
    {
      "cell_type": "code",
      "metadata": {
        "id": "WA-6IYQqvBz-",
        "colab_type": "code",
        "colab": {}
      },
      "source": [
        "#Function in Python 3.0\n",
        "\n",
        "#Function that returns true if the brackets in a given string are balenced or unbalenced\n",
        "open_list = [\"[\",\"{\",\"(\"] \n",
        "close_list = [\"]\",\"}\",\")\"] \n",
        " \n",
        "def pattern(myStr): \n",
        "    stack = [] \n",
        "    for i in myStr: \n",
        "        if i in open_list: \n",
        "            stack.append(i) \n",
        "        elif i in close_list: \n",
        "            pos = close_list.index(i) \n",
        "            if ((len(stack) > 0) and\n",
        "                (open_list[pos] == stack[len(stack)-1])): \n",
        "                stack.pop() \n",
        "            else: \n",
        "                return \"false\"\n",
        "    if len(stack) == 0: \n",
        "        return \"true\"\n",
        "    else: \n",
        "        return \"false\""
      ],
      "execution_count": 26,
      "outputs": []
    },
    {
      "cell_type": "code",
      "metadata": {
        "id": "LArWU0-Lq_WD",
        "colab_type": "code",
        "colab": {
          "base_uri": "https://localhost:8080/",
          "height": 170
        },
        "outputId": "75d73af0-e446-48d1-a90a-c7ff5cd545d5"
      },
      "source": [
        "# Test Cases\n",
        "test1 = \"(a[0]+b[2c[6]]){24+53}\"\n",
        "test2 = \"f(e(d))\"\n",
        "test3 = \"[()]{}([])\"\n",
        "test4 = \"((b)\"\n",
        "test5 = \"(c]\"\n",
        "test6 = \"{(a[])\"\n",
        "test7 = \"([)]\"\n",
        "test8 = \")(\"\n",
        "test9 = \"\"\n",
        "print(\"Test1: \",test1, \"->\", pattern(test1)) \n",
        "print(\"Test2: \",test2, \"->\", pattern(test2)) \n",
        "print(\"Test3: \",test3,  \"->\", pattern(test3)) \n",
        "print(\"Test4: \",test4, \"->\", pattern(test4)) \n",
        "print(\"Test5: \",test5, \"->\", pattern(test5))  \n",
        "print(\"Test6: \",test6,  \"->\", pattern(test6)) \n",
        "print(\"Test7: \",test7,  \"->\", pattern(test7)) \n",
        "print(\"Test8: \",test8, \"->\", pattern(test8)) \n",
        "print(\"Test9: \",test9, \"->\", pattern(test9))  \n"
      ],
      "execution_count": 27,
      "outputs": [
        {
          "output_type": "stream",
          "text": [
            "Test1:  (a[0]+b[2c[6]]){24+53} -> true\n",
            "Test2:  f(e(d)) -> true\n",
            "Test3:  [()]{}([]) -> true\n",
            "Test4:  ((b) -> false\n",
            "Test5:  (c] -> false\n",
            "Test6:  {(a[]) -> false\n",
            "Test7:  ([)] -> false\n",
            "Test8:  )( -> false\n",
            "Test9:   -> true\n"
          ],
          "name": "stdout"
        }
      ]
    },
    {
      "cell_type": "code",
      "metadata": {
        "id": "-n6aWvdOsZTH",
        "colab_type": "code",
        "colab": {}
      },
      "source": [
        ""
      ],
      "execution_count": null,
      "outputs": []
    }
  ]
}